{
 "cells": [
  {
   "cell_type": "markdown",
   "metadata": {},
   "source": [
    "地上有一个m行n列的方格，从坐标 [0,0] 到坐标 [m-1,n-1] 。一个机器人从坐标 [0, 0] 的格子开始移动，它每次可以向左、右、上、下移动一格（不能移动到方格外），也不能进入行坐标和列坐标的数位之和大于k的格子。例如，当k为18时，机器人能够进入方格 [35, 37] ，因为3+5+3+7=18。但它不能进入方格 [35, 38]，因为3+5+3+8=19。请问该机器人能够到达多少个格子？\n"
   ]
  },
  {
   "cell_type": "code",
   "execution_count": null,
   "metadata": {},
   "outputs": [],
   "source": [
    "class Solution:\n",
    "    def movingCount(self, m: int, n: int, k: int) -> int:\n",
    "        def dfs(i,j,si,sj):\n",
    "            if i >= m or j >= n or k < si + sj or (i, j) in visited:\n",
    "                return 0\n",
    "            visited.add((i,j))\n",
    "            return 1 + dfs(i + 1, j, si + 1 if (i + 1) % 10 else si - 8, sj) + dfs(i, j + 1, si, sj + 1 if (j + 1) % 10 else sj - 8)\n",
    "        visited = set()\n",
    "        return dfs(0,0,0,0)\n",
    "    \n",
    "    def movingCount2(self, m: int, n: int, k: int) -> int:\n",
    "        queue, visited,  = [(0, 0, 0, 0)], set()\n",
    "        while queue:\n",
    "            i, j, si, sj = queue.pop(0)\n",
    "            if i >= m or j >= n or k < si + sj or (i, j) in visited: continue\n",
    "            visited.add((i,j))\n",
    "            queue.append((i + 1, j, si + 1 if (i + 1) % 10 else si - 8, sj))\n",
    "            queue.append((i, j + 1, si, sj + 1 if (j + 1) % 10 else sj - 8))\n",
    "        return len(visited)\n"
   ]
  }
 ],
 "metadata": {
  "kernelspec": {
   "display_name": "Python 3",
   "language": "python",
   "name": "python3"
  },
  "language_info": {
   "codemirror_mode": {
    "name": "ipython",
    "version": 3
   },
   "file_extension": ".py",
   "mimetype": "text/x-python",
   "name": "python",
   "nbconvert_exporter": "python",
   "pygments_lexer": "ipython3",
   "version": "3.6.3"
  }
 },
 "nbformat": 4,
 "nbformat_minor": 2
}
