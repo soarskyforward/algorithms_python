{
 "cells": [
  {
   "cell_type": "markdown",
   "metadata": {},
   "source": [
    "请实现一个函数，把字符串 s 中的每个空格替换成\"%20\"。"
   ]
  },
  {
   "cell_type": "code",
   "execution_count": 1,
   "metadata": {},
   "outputs": [],
   "source": [
    "class Solution:\n",
    "    def replaceSpace(self, s: str) -> str:\n",
    "        return s.replace(\" \",\"%20\")\n",
    "    def replaceSpace2(self, s: str) -> str:\n",
    "        res = []\n",
    "        for i in s:\n",
    "            if i == ' ':\n",
    "                res.append('%20')\n",
    "            else:\n",
    "                res.append(c)\n",
    "        return ''.join(res)"
   ]
  },
  {
   "cell_type": "code",
   "execution_count": null,
   "metadata": {},
   "outputs": [],
   "source": []
  }
 ],
 "metadata": {
  "kernelspec": {
   "display_name": "Python 3",
   "language": "python",
   "name": "python3"
  },
  "language_info": {
   "codemirror_mode": {
    "name": "ipython",
    "version": 3
   },
   "file_extension": ".py",
   "mimetype": "text/x-python",
   "name": "python",
   "nbconvert_exporter": "python",
   "pygments_lexer": "ipython3",
   "version": "3.6.3"
  }
 },
 "nbformat": 4,
 "nbformat_minor": 2
}
