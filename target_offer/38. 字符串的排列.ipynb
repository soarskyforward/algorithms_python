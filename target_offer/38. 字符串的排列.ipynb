{
 "cells": [
  {
   "cell_type": "markdown",
   "metadata": {},
   "source": [
    "输入一个字符串，打印出该字符串中字符的所有排列。\n",
    "\n",
    " \n",
    "\n",
    "你可以以任意顺序返回这个字符串数组，但里面不能有重复元素。"
   ]
  },
  {
   "cell_type": "markdown",
   "metadata": {},
   "source": [
    "输入：s = \"abc\"\n",
    "输出：[\"abc\",\"acb\",\"bac\",\"bca\",\"cab\",\"cba\"]\n",
    " "
   ]
  },
  {
   "cell_type": "code",
   "execution_count": null,
   "metadata": {},
   "outputs": [],
   "source": [
    "class Solution:\n",
    "    def permutation(self, s: str) -> List[str]:\n",
    "        c,res = list(s), []\n",
    "        def dfs(x):\n",
    "            if x == len(c) - 1:\n",
    "                res.append(''.join(c))\n",
    "                return \n",
    "            dic = set()\n",
    "            for i in range(x,len(c)):\n",
    "                if c[i] in dic:\n",
    "                    continue\n",
    "                dic.add(c[i])\n",
    "                c[i], c[x] = c[x], c[i]  # 交换，将 c[i] 固定在第 x 位\n",
    "                dfs(x + 1)               # 开启固定第 x + 1 位字符\n",
    "                c[i], c[x] = c[x], c[i]  # 恢复交换\n",
    "        dfs(0)\n",
    "        return res\n"
   ]
  }
 ],
 "metadata": {
  "kernelspec": {
   "display_name": "Python 3",
   "language": "python",
   "name": "python3"
  },
  "language_info": {
   "codemirror_mode": {
    "name": "ipython",
    "version": 3
   },
   "file_extension": ".py",
   "mimetype": "text/x-python",
   "name": "python",
   "nbconvert_exporter": "python",
   "pygments_lexer": "ipython3",
   "version": "3.6.3"
  }
 },
 "nbformat": 4,
 "nbformat_minor": 2
}
