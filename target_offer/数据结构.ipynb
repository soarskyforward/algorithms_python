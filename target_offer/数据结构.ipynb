{
 "cells": [
  {
   "cell_type": "markdown",
   "metadata": {},
   "source": [
    "## 数组"
   ]
  },
  {
   "cell_type": "code",
   "execution_count": 1,
   "metadata": {},
   "outputs": [
    {
     "data": {
      "text/plain": [
       "[2, 1, 3, 2]"
      ]
     },
     "execution_count": 1,
     "metadata": {},
     "output_type": "execute_result"
    }
   ],
   "source": [
    "array = []\n",
    "array.append(2)\n",
    "array.append(1)\n",
    "array.append(3)\n",
    "array.append(2)\n",
    "array"
   ]
  },
  {
   "cell_type": "markdown",
   "metadata": {},
   "source": [
    "## 链表"
   ]
  },
  {
   "cell_type": "markdown",
   "metadata": {},
   "source": [
    "链表以节点为单位，每个元素都是一个独立对象，在内存空间的存储是非连续的。链表的节点对象具有两个成员变量：「值 val」，「后继节点引用 next」 。"
   ]
  },
  {
   "cell_type": "code",
   "execution_count": 2,
   "metadata": {},
   "outputs": [],
   "source": [
    "class ListNode:\n",
    "    def __init__(self,x):\n",
    "        self.val = x\n",
    "        self.next = None\n",
    "\n",
    "# 实例化节点\n",
    "n1 = ListNode(4) # 节点 head\n",
    "n2 = ListNode(5)\n",
    "n3 = ListNode(1)\n",
    "\n",
    "# 构建引用指向\n",
    "n1.next = n2\n",
    "n2.next = n3"
   ]
  },
  {
   "cell_type": "markdown",
   "metadata": {},
   "source": [
    "## 栈"
   ]
  },
  {
   "cell_type": "markdown",
   "metadata": {},
   "source": [
    "栈是一种具有 「先入后出」 特点的抽象数据结构，可使用数组或链表实现。"
   ]
  },
  {
   "cell_type": "code",
   "execution_count": 8,
   "metadata": {},
   "outputs": [],
   "source": [
    "stack = []\n",
    "stack.append(1);  #元素 1 入栈\n",
    "stack.append(2);  #元素 2 入栈\n",
    "stack.pop();    #出栈 -> 元素 2\n",
    "stack.pop();    #出栈 -> 元素 1"
   ]
  },
  {
   "cell_type": "markdown",
   "metadata": {},
   "source": [
    "## 队列"
   ]
  },
  {
   "cell_type": "markdown",
   "metadata": {},
   "source": [
    "队列是一种具有 「先入先出」 特点的抽象数据结构，可使用链表实现。\n",
    "\n"
   ]
  },
  {
   "cell_type": "code",
   "execution_count": 10,
   "metadata": {},
   "outputs": [
    {
     "data": {
      "text/plain": [
       "2"
      ]
     },
     "execution_count": 10,
     "metadata": {},
     "output_type": "execute_result"
    }
   ],
   "source": [
    "from collections import deque\n",
    "\n",
    "queue = deque()\n",
    "queue.append(1) # 元素 1 入队\n",
    "queue.append(2) # 元素 2 入队\n",
    "queue.popleft() # 出队 -> 元素 1\n",
    "queue.popleft() # 出队 -> 元素 2\n"
   ]
  },
  {
   "cell_type": "markdown",
   "metadata": {},
   "source": [
    "## 树"
   ]
  },
  {
   "cell_type": "markdown",
   "metadata": {},
   "source": [
    "树是一种非线性数据结构，根据子节点数量可分为 「二叉树」 和 「多叉树」，最顶层的节点称为「根节点 root」。以二叉树为例，每个节点包含三个成员变量：「值 val」、「左子节点 left」、「右子节点 right」 。\n"
   ]
  },
  {
   "cell_type": "code",
   "execution_count": 12,
   "metadata": {},
   "outputs": [],
   "source": [
    "class TreeNode:\n",
    "    def __init__(self,x):\n",
    "        self.val = x\n",
    "        self.left = None\n",
    "        self.right = None"
   ]
  },
  {
   "cell_type": "code",
   "execution_count": 13,
   "metadata": {},
   "outputs": [],
   "source": [
    "# 初始化节点\n",
    "n1 = TreeNode(3) # 根节点 root\n",
    "n2 = TreeNode(4)\n",
    "n3 = TreeNode(5)\n",
    "n4 = TreeNode(1)\n",
    "n5 = TreeNode(2)\n",
    "\n",
    "# 构建引用指向\n",
    "n1.left = n2\n",
    "n1.right = n3\n",
    "n2.left = n4\n",
    "n2.right = n5\n"
   ]
  },
  {
   "cell_type": "markdown",
   "metadata": {},
   "source": [
    "## 图"
   ]
  },
  {
   "cell_type": "markdown",
   "metadata": {},
   "source": [
    "图是一种非线性数据结构，由「节点（顶点）vertex」和「边 edge」组成，每条边连接一对顶点。根据边的方向有无，图可分为「有向图」和「无向图」。"
   ]
  },
  {
   "cell_type": "markdown",
   "metadata": {},
   "source": [
    "顶点集合： vertices = {1, 2, 3, 4, 5}\n",
    "边集合： edges = {(1, 2), (1, 3), (1, 4), (1, 5), (2, 4), (3, 5), (4, 5)}\n"
   ]
  },
  {
   "cell_type": "markdown",
   "metadata": {},
   "source": [
    "## 散列表"
   ]
  },
  {
   "cell_type": "markdown",
   "metadata": {},
   "source": [
    "散列表是一种非线性数据结构，通过利用 Hash 函数将指定的「键 key」映射至对应的「值 value」，以实现高效的元素查找。"
   ]
  },
  {
   "cell_type": "code",
   "execution_count": 14,
   "metadata": {},
   "outputs": [
    {
     "data": {
      "text/plain": [
       "10003"
      ]
     },
     "execution_count": 14,
     "metadata": {},
     "output_type": "execute_result"
    }
   ],
   "source": [
    "# 初始化散列表\n",
    "dic = {}\n",
    "\n",
    "# 添加 key -> value 键值对\n",
    "dic[\"小力\"] = 10001\n",
    "dic[\"小特\"] = 10002\n",
    "dic[\"小扣\"] = 10003\n",
    "\n",
    "# 从姓名查找学号\n",
    "dic[\"小力\"] # -> 10001\n",
    "dic[\"小特\"] # -> 10002\n",
    "dic[\"小扣\"] # -> 10003"
   ]
  },
  {
   "cell_type": "markdown",
   "metadata": {},
   "source": [
    "## 堆"
   ]
  },
  {
   "cell_type": "markdown",
   "metadata": {},
   "source": [
    "堆是一种基于「完全二叉树」的数据结构，可使用数组实现。以堆为原理的排序算法称为「堆排序」，基于堆实现的数据结构为「优先队列」。堆分为「大顶堆」和「小顶堆」，大（小）顶堆：任意节点的值不大于（小于）其父节点的值。\n"
   ]
  },
  {
   "cell_type": "code",
   "execution_count": 15,
   "metadata": {},
   "outputs": [
    {
     "data": {
      "text/plain": [
       "8"
      ]
     },
     "execution_count": 15,
     "metadata": {},
     "output_type": "execute_result"
    }
   ],
   "source": [
    "from heapq import heappush, heappop\n",
    "\n",
    "# 初始化小顶堆\n",
    "heap = []\n",
    "\n",
    "# 元素入堆\n",
    "heappush(heap, 1)\n",
    "heappush(heap, 4)\n",
    "heappush(heap, 2)\n",
    "heappush(heap, 6)\n",
    "heappush(heap, 8)\n",
    "\n",
    "# 元素出堆（从小到大）\n",
    "heappop(heap) # -> 1\n",
    "heappop(heap) # -> 2\n",
    "heappop(heap) # -> 4\n",
    "heappop(heap) # -> 6\n",
    "heappop(heap) # -> 8\n"
   ]
  },
  {
   "cell_type": "code",
   "execution_count": null,
   "metadata": {},
   "outputs": [],
   "source": []
  }
 ],
 "metadata": {
  "kernelspec": {
   "display_name": "Python 3",
   "language": "python",
   "name": "python3"
  },
  "language_info": {
   "codemirror_mode": {
    "name": "ipython",
    "version": 3
   },
   "file_extension": ".py",
   "mimetype": "text/x-python",
   "name": "python",
   "nbconvert_exporter": "python",
   "pygments_lexer": "ipython3",
   "version": "3.6.3"
  }
 },
 "nbformat": 4,
 "nbformat_minor": 2
}
