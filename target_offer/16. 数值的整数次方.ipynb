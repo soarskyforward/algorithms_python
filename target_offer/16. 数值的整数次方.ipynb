{
 "cells": [
  {
   "cell_type": "markdown",
   "metadata": {},
   "source": [
    "实现函数double Power(double base, int exponent)，求base的exponent次方。不得使用库函数，同时不需要考虑大数问题。\n"
   ]
  },
  {
   "cell_type": "markdown",
   "metadata": {},
   "source": [
    "输入: 2.00000, 10\n",
    "输出: 1024.00000"
   ]
  },
  {
   "cell_type": "code",
   "execution_count": null,
   "metadata": {},
   "outputs": [],
   "source": [
    "class Solution:\n",
    "    def myPow(self, x: float, n: int) -> float:\n",
    "        if x == 0: return 0\n",
    "        res = 1\n",
    "        if n < 0: x, n = 1 / x, -n\n",
    "        while n:\n",
    "            if n & 1: res *= x\n",
    "            x *= x\n",
    "            n >>= 1\n",
    "        return res\n",
    "\n",
    "#向下整除 n // 2等价于 右移一位 n >> 1；\n",
    "#取余数 n %2等价于 判断二进制最右位 n &1 "
   ]
  }
 ],
 "metadata": {
  "kernelspec": {
   "display_name": "Python 3",
   "language": "python",
   "name": "python3"
  },
  "language_info": {
   "codemirror_mode": {
    "name": "ipython",
    "version": 3
   },
   "file_extension": ".py",
   "mimetype": "text/x-python",
   "name": "python",
   "nbconvert_exporter": "python",
   "pygments_lexer": "ipython3",
   "version": "3.6.3"
  }
 },
 "nbformat": 4,
 "nbformat_minor": 2
}
