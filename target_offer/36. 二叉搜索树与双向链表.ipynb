{
 "cells": [
  {
   "cell_type": "markdown",
   "metadata": {},
   "source": [
    "输入一棵二叉搜索树，将该二叉搜索树转换成一个排序的循环双向链表。要求不能创建任何新的节点，只能调整树中节点指针的指向。"
   ]
  },
  {
   "cell_type": "code",
   "execution_count": null,
   "metadata": {},
   "outputs": [],
   "source": [
    "\"\"\"\n",
    "# Definition for a Node.\n",
    "class Node:\n",
    "    def __init__(self, val, left=None, right=None):\n",
    "        self.val = val\n",
    "        self.left = left\n",
    "        self.right = right\n",
    "\"\"\"\n",
    "class Solution:\n",
    "    def treeToDoublyList(self, root: 'Node') -> 'Node':\n",
    "        def dfs(cur):\n",
    "            if not cur:\n",
    "                return\n",
    "            dfs(cur.left)\n",
    "            if not self.pre:\n",
    "                self.head = cur\n",
    "            else:\n",
    "                self.pre.right, cur.left = cur, self.pre\n",
    "            self.pre = cur\n",
    "            dfs(cur.right)\n",
    "            \n",
    "        if not root: return\n",
    "        self.pre = None\n",
    "        dfs(root)\n",
    "        self.head.left, self.pre.right = self.pre, self.head\n",
    "        return self.head"
   ]
  }
 ],
 "metadata": {
  "kernelspec": {
   "display_name": "Python 3",
   "language": "python",
   "name": "python3"
  },
  "language_info": {
   "codemirror_mode": {
    "name": "ipython",
    "version": 3
   },
   "file_extension": ".py",
   "mimetype": "text/x-python",
   "name": "python",
   "nbconvert_exporter": "python",
   "pygments_lexer": "ipython3",
   "version": "3.6.3"
  }
 },
 "nbformat": 4,
 "nbformat_minor": 2
}
