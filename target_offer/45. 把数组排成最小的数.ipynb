{
 "cells": [
  {
   "cell_type": "markdown",
   "metadata": {},
   "source": [
    "输入一个非负整数数组，把数组里所有数字拼接起来排成一个数，打印能拼接出的所有数字中最小的一个。\n",
    "输入: [3,30,34,5,9]\n",
    "输出: \"3033459\""
   ]
  },
  {
   "cell_type": "code",
   "execution_count": null,
   "metadata": {},
   "outputs": [],
   "source": [
    "class Solution:\n",
    "    def minNumber(self, nums: List[int]) -> str:\n",
    "        def sort_rule(x, y):\n",
    "            a, b = x + y, y + x\n",
    "            if a > b: return 1\n",
    "            elif a < b: return -1\n",
    "            else: return 0\n",
    "        \n",
    "        strs = [str(num) for num in nums]\n",
    "        strs.sort(key = functools.cmp_to_key(sort_rule))\n",
    "        return ''.join(strs)\n"
   ]
  }
 ],
 "metadata": {
  "kernelspec": {
   "display_name": "Python 3",
   "language": "python",
   "name": "python3"
  },
  "language_info": {
   "codemirror_mode": {
    "name": "ipython",
    "version": 3
   },
   "file_extension": ".py",
   "mimetype": "text/x-python",
   "name": "python",
   "nbconvert_exporter": "python",
   "pygments_lexer": "ipython3",
   "version": "3.6.3"
  }
 },
 "nbformat": 4,
 "nbformat_minor": 2
}
