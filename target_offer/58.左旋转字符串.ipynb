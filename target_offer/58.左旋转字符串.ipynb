{
 "cells": [
  {
   "cell_type": "markdown",
   "metadata": {},
   "source": [
    "字符串的左旋转操作是把字符串前面的若干个字符转移到字符串的尾部。请定义一个函数实现字符串左旋转操作的功能。比如，输入字符串\"abcdefg\"和数字2，该函数将返回左旋转两位得到的结果\"cdefgab\"。\n",
    "\n",
    "输入: s = \"abcdefg\", k = 2\n",
    "输出: \"cdefgab\""
   ]
  },
  {
   "cell_type": "code",
   "execution_count": null,
   "metadata": {},
   "outputs": [],
   "source": [
    "class Solution:\n",
    "    def reverseLeftWords(self, s: str, n: int) -> str:\n",
    "        return s[n:] + s[:n]\n",
    "    \n",
    "    def reverseLeftWords2(self, s: str, n: int) -> str:\n",
    "        res = []\n",
    "        for i in range(n,len(s)):\n",
    "            res.append(s[i])\n",
    "        for i in range(n):\n",
    "            res.append(s[i])\n",
    "        return ''.join(res)\n",
    "    \n",
    "    def reverseLeftWords3(self, s: str, n: int) -> str:\n",
    "        res = []\n",
    "        for i in range(n, n + len(s)):\n",
    "            res.append(s[i % len(s)])\n",
    "        return ''.join(res)\n"
   ]
  }
 ],
 "metadata": {
  "kernelspec": {
   "display_name": "Python 3",
   "language": "python",
   "name": "python3"
  },
  "language_info": {
   "codemirror_mode": {
    "name": "ipython",
    "version": 3
   },
   "file_extension": ".py",
   "mimetype": "text/x-python",
   "name": "python",
   "nbconvert_exporter": "python",
   "pygments_lexer": "ipython3",
   "version": "3.6.3"
  }
 },
 "nbformat": 4,
 "nbformat_minor": 2
}
