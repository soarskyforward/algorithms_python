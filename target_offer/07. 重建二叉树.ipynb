{
 "cells": [
  {
   "cell_type": "markdown",
   "metadata": {},
   "source": [
    "输入某二叉树的前序遍历和中序遍历的结果，请重建该二叉树。假设输入的前序遍历和中序遍历的结果中都不含重复的数字。"
   ]
  },
  {
   "cell_type": "markdown",
   "metadata": {},
   "source": [
    "前序遍历 preorder = [3,9,20,15,7]\n",
    "中序遍历 inorder = [9,3,15,20,7]\n",
    "    3\n",
    "   / \\\n",
    "  9  20\n",
    "    /  \\\n",
    "   15   7"
   ]
  },
  {
   "cell_type": "code",
   "execution_count": null,
   "metadata": {},
   "outputs": [],
   "source": [
    "# Definition for a binary tree node.\n",
    "# class TreeNode:\n",
    "#     def __init__(self, x):\n",
    "#         self.val = x\n",
    "#         self.left = None\n",
    "#         self.right = None\n",
    "\n",
    "class Solution:\n",
    "    def buildTree(self, preorder: List[int], inorder: List[int]) -> TreeNode:\n",
    "        def recur(root, left, right):\n",
    "            if left > right: return                               # 递归终止\n",
    "            node = TreeNode(preorder[root])                       # 建立根节点\n",
    "            i = dic[preorder[root]]                               # 划分根节点、左子树、右子树\n",
    "            node.left = recur(root + 1, left, i - 1)              # 开启左子树递归\n",
    "            node.right = recur(i - left + root + 1, i + 1, right) # 开启右子树递归i - left + root + 1含义为 根节点索引 + 左子树长度 + 1\n",
    "            return node                                           # 回溯返回根节点\n",
    "\n",
    "        dic, preorder = {}, preorder\n",
    "        for i in range(len(inorder)):\n",
    "            dic[inorder[i]] = i\n",
    "        return recur(0, 0, len(inorder) - 1)\n"
   ]
  }
 ],
 "metadata": {
  "kernelspec": {
   "display_name": "Python 3",
   "language": "python",
   "name": "python3"
  },
  "language_info": {
   "codemirror_mode": {
    "name": "ipython",
    "version": 3
   },
   "file_extension": ".py",
   "mimetype": "text/x-python",
   "name": "python",
   "nbconvert_exporter": "python",
   "pygments_lexer": "ipython3",
   "version": "3.6.3"
  }
 },
 "nbformat": 4,
 "nbformat_minor": 2
}
