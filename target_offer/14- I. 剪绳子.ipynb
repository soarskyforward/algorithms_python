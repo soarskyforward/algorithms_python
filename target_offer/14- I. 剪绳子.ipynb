{
 "cells": [
  {
   "cell_type": "markdown",
   "metadata": {},
   "source": [
    "给你一根长度为 n 的绳子，请把绳子剪成整数长度的 m 段（m、n都是整数，n>1并且m>1），每段绳子的长度记为 k[0],k[1]...k[m-1] 。请问 k[0]*k[1]*...*k[m-1] 可能的最大乘积是多少？例如，当绳子的长度是8时，我们把它剪成长度分别为2、3、3的三段，此时得到的最大乘积是18。\n",
    "\n"
   ]
  },
  {
   "cell_type": "code",
   "execution_count": null,
   "metadata": {},
   "outputs": [],
   "source": [
    "class Solution:\n",
    "    def cuttingRope(self, n: int) -> int:\n",
    "        if n <= 3: return n -1\n",
    "        a, b= n//3, n % 3\n",
    "        if b == 0: return int(math.pow(3,a))\n",
    "        if b == 1: return int(math.pow(3,a-1)*4)\n",
    "        return int(math.pow(3,a)*2)\n",
    "    \n",
    "    \n",
    "#数论\n",
    "\n",
    "#任何大于1的数都可由2和3相加组成（根据奇偶证明）\n",
    "#因为2*2=1*4，2*3>1*5, 所以将数字拆成2和3，能得到的积最大\n",
    "\n",
    "    def cuttingRope2(self, n: int) -> int:\n",
    "        if n <= 3: return n - 1\n",
    "        a, b, p, x, rem = n // 3 - 1, n % 3, 1000000007, 3 , 1\n",
    "        while a > 0:\n",
    "            if a % 2: rem = (rem * x) % p\n",
    "            x = x ** 2 % p\n",
    "            a //= 2\n",
    "        if b == 0: return (rem * 3) % p # = 3^(a+1) % p\n",
    "        if b == 1: return (rem * 4) % p # = 3^a * 4 % p\n",
    "        return (rem * 6) % p # = 3^(a+1) * 2  % p\n"
   ]
  }
 ],
 "metadata": {
  "kernelspec": {
   "display_name": "Python 3",
   "language": "python",
   "name": "python3"
  },
  "language_info": {
   "codemirror_mode": {
    "name": "ipython",
    "version": 3
   },
   "file_extension": ".py",
   "mimetype": "text/x-python",
   "name": "python",
   "nbconvert_exporter": "python",
   "pygments_lexer": "ipython3",
   "version": "3.6.3"
  }
 },
 "nbformat": 4,
 "nbformat_minor": 2
}
