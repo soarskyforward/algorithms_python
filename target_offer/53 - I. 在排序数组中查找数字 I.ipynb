{
 "cells": [
  {
   "cell_type": "markdown",
   "metadata": {},
   "source": [
    "统计一个数字在排序数组中出现的次数。"
   ]
  },
  {
   "cell_type": "markdown",
   "metadata": {},
   "source": [
    "输入: nums = [5,7,7,8,8,10], target = 8\n",
    "输出: 2"
   ]
  },
  {
   "cell_type": "code",
   "execution_count": null,
   "metadata": {},
   "outputs": [],
   "source": [
    "class Solution:\n",
    "    def search(self, nums: List[int], target: int) -> int:\n",
    "        i, j = 0, len(nums) -1\n",
    "        while i <= j:\n",
    "            m = (i + j) //2 \n",
    "            if nums[m] <= target:\n",
    "                i = m + 1\n",
    "            else:\n",
    "                j = m - 1\n",
    "        right = i\n",
    "        if j >= 0 and nums[j] != target: return 0\n",
    "        i = 0\n",
    "        while i <= j:\n",
    "            m = (i + j) // 2\n",
    "            if nums[m] < target: i = m + 1\n",
    "            else: j = m - 1\n",
    "        left = j\n",
    "        return right - left - 1\n",
    "    def search2(self, nums: List[int], target: int) -> int:\n",
    "        def helper(tar):\n",
    "            i, j = 0, len(nums) - 1\n",
    "            while i <= j:\n",
    "                m = (i + j) // 2\n",
    "                if nums[m] <= tar: i = m + 1\n",
    "                else: j = m - 1\n",
    "            return i\n",
    "        return helper(target) - helper(target - 1)\n",
    "\n",
    "#若 nums[m] = targetnums[m]=target ，则右边界 rightright 在闭区间 [m+1, j][m+1,j] 中；左边界 leftleft 在闭区间 [i, m-1][i,m−1] 中。因此分为以下两种情况：\n",
    "#若查找 右边界 rightright ，则执行 i = m + 1i=m+1 ；（跳出时 ii 指向右边界）\n",
    "#若查找 左边界 leftleft ，则执行 j = m - 1j=m−1 ；（跳出时 jj 指向左边界）\n"
   ]
  }
 ],
 "metadata": {
  "kernelspec": {
   "display_name": "Python 3",
   "language": "python",
   "name": "python3"
  },
  "language_info": {
   "codemirror_mode": {
    "name": "ipython",
    "version": 3
   },
   "file_extension": ".py",
   "mimetype": "text/x-python",
   "name": "python",
   "nbconvert_exporter": "python",
   "pygments_lexer": "ipython3",
   "version": "3.6.3"
  }
 },
 "nbformat": 4,
 "nbformat_minor": 2
}
