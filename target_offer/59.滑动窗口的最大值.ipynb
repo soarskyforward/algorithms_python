{
 "cells": [
  {
   "cell_type": "markdown",
   "metadata": {},
   "source": [
    "给定一个数组 nums 和滑动窗口的大小 k，请找出所有滑动窗口里的最大值。"
   ]
  },
  {
   "cell_type": "markdown",
   "metadata": {},
   "source": [
    "输入: nums = [1,3,-1,-3,5,3,6,7], 和 k = 3\n",
    "输出: [3,3,5,5,6,7] "
   ]
  },
  {
   "cell_type": "code",
   "execution_count": null,
   "metadata": {},
   "outputs": [],
   "source": [
    "class Solution:\n",
    "    def maxSlidingWindow(self, nums: List[int], k: int) -> List[int]:\n",
    "        deque = collections.deque()\n",
    "        res, n = [], len(nums)\n",
    "        for i, j in zip(range(1-k,n + 1 - k), range(n)):\n",
    "            # 删除 deque 中对应的 nums[i-1]\n",
    "            if i > 0 and deque[0] == nums[i-1]:\n",
    "                deque.popleft()\n",
    "            # 保持 deque 递减\n",
    "            while deque and deque[-1] < nums[j]:\n",
    "                deque.pop()\n",
    "            deque.append(nums[j])\n",
    "            # 记录窗口最大值\n",
    "            if i >= 0:\n",
    "                res.append(deque[0])\n",
    "        return res\n"
   ]
  },
  {
   "cell_type": "markdown",
   "metadata": {},
   "source": [
    "deque内仅包含窗口内的元素⇒ 每轮窗口滑动移除了元素 nums[i - 1]，需将 dequedeque 内的对应元素一起删除。\n",
    "deque内的元素非严格递减⇒ 每轮窗口滑动添加了元素 nums[j + 1]，需将 dequedeque 内所有 < nums[j + 1]的元素删除。\n"
   ]
  },
  {
   "cell_type": "code",
   "execution_count": null,
   "metadata": {},
   "outputs": [],
   "source": []
  }
 ],
 "metadata": {
  "kernelspec": {
   "display_name": "Python 3",
   "language": "python",
   "name": "python3"
  },
  "language_info": {
   "codemirror_mode": {
    "name": "ipython",
    "version": 3
   },
   "file_extension": ".py",
   "mimetype": "text/x-python",
   "name": "python",
   "nbconvert_exporter": "python",
   "pygments_lexer": "ipython3",
   "version": "3.6.3"
  }
 },
 "nbformat": 4,
 "nbformat_minor": 2
}
