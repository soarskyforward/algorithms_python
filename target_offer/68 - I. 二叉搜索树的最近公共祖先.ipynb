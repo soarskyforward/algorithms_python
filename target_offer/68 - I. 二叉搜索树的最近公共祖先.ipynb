{
 "cells": [
  {
   "cell_type": "markdown",
   "metadata": {},
   "source": [
    "给定一个二叉搜索树, 找到该树中两个指定节点的最近公共祖先。\n",
    "\n",
    "百度百科中最近公共祖先的定义为：“对于有根树 T 的两个结点 p、q，最近公共祖先表示为一个结点 x，满足 x 是 p、q 的祖先且 x 的深度尽可能大（一个节点也可以是它自己的祖先）。\n"
   ]
  },
  {
   "cell_type": "code",
   "execution_count": 1,
   "metadata": {},
   "outputs": [
    {
     "ename": "SyntaxError",
     "evalue": "unexpected EOF while parsing (<ipython-input-1-8eed48f14ef9>, line 11)",
     "output_type": "error",
     "traceback": [
      "\u001b[1;36m  File \u001b[1;32m\"<ipython-input-1-8eed48f14ef9>\"\u001b[1;36m, line \u001b[1;32m11\u001b[0m\n\u001b[1;33m    if root.val < p.val and root.val < q.val:\u001b[0m\n\u001b[1;37m                                             ^\u001b[0m\n\u001b[1;31mSyntaxError\u001b[0m\u001b[1;31m:\u001b[0m unexpected EOF while parsing\n"
     ]
    }
   ],
   "source": [
    "# Definition for a binary tree node.\n",
    "# class TreeNode:\n",
    "#     def __init__(self, x):\n",
    "#         self.val = x\n",
    "#         self.left = None\n",
    "#         self.right = None\n",
    "\n",
    "class Solution:\n",
    "    def lowestCommonAncestor(self, root: 'TreeNode', p: 'TreeNode', q: 'TreeNode') -> 'TreeNode':\n",
    "        while root:\n",
    "            if root.val < p.val and root.val < q.val:\n",
    "                root = root.right\n",
    "            elif root.val > p.val and root.val > q.val:\n",
    "                root = root.left\n",
    "            else:\n",
    "                break\n",
    "        return root\n",
    "    \n",
    "    def lowestCommonAncestor2(self, root: 'TreeNode', p: 'TreeNode', q: 'TreeNode') -> 'TreeNode':\n",
    "        if root.val < p.val and root.val < q.val:\n",
    "            return self.lowestCommonAncestor2(root.right,p,q)\n",
    "        if root.val > p.val and root.val > q.val:\n",
    "            return self.lowestCommonAncestor2(root.left,p,q)\n",
    "        return root"
   ]
  },
  {
   "cell_type": "markdown",
   "metadata": {},
   "source": [
    "给定一个二叉树, 找到该树中两个指定节点的最近公共祖先。\n"
   ]
  },
  {
   "cell_type": "code",
   "execution_count": null,
   "metadata": {},
   "outputs": [],
   "source": [
    "# Definition for a binary tree node.\n",
    "# class TreeNode:\n",
    "#     def __init__(self, x):\n",
    "#         self.val = x\n",
    "#         self.left = None\n",
    "#         self.right = None\n",
    "\n",
    "class Solution:\n",
    "    def lowestCommonAncestor(self, root: TreeNode, p: TreeNode, q: TreeNode) -> TreeNode:\n",
    "        if not root or root == p or root == q: return root\n",
    "        left = self.lowestCommonAncestor(root.left, p, q)\n",
    "        right = self.lowestCommonAncestor(root.right, p, q)\n",
    "        if not left and not right: return # 1.\n",
    "        if not left: return right # 3.\n",
    "        if not right: return left # 4.\n",
    "        return root # 2. if left and right:\n"
   ]
  }
 ],
 "metadata": {
  "kernelspec": {
   "display_name": "Python 3",
   "language": "python",
   "name": "python3"
  },
  "language_info": {
   "codemirror_mode": {
    "name": "ipython",
    "version": 3
   },
   "file_extension": ".py",
   "mimetype": "text/x-python",
   "name": "python",
   "nbconvert_exporter": "python",
   "pygments_lexer": "ipython3",
   "version": "3.6.3"
  }
 },
 "nbformat": 4,
 "nbformat_minor": 2
}
