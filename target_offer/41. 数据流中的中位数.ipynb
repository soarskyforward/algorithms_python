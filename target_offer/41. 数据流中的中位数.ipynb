{
 "cells": [
  {
   "cell_type": "markdown",
   "metadata": {},
   "source": [
    "\n",
    "如何得到一个数据流中的中位数？如果从数据流中读出奇数个数值，那么中位数就是所有数值排序之后位于中间的数值。\n",
    "如果从数据流中读出偶数个数值，那么中位数就是所有数值排序之后中间两个数的平均值。\n",
    "\n",
    "\n",
    "\n",
    "void addNum(int num) - 从数据流中添加一个整数到数据结构中。\n",
    "double findMedian() - 返回目前所有元素的中位数。\n",
    "\n"
   ]
  },
  {
   "cell_type": "code",
   "execution_count": null,
   "metadata": {},
   "outputs": [],
   "source": [
    "from heapq import *\n",
    "\n",
    "class MedianFinder:\n",
    "    def __init__(self):\n",
    "        self.A = [] # 小顶堆，保存较大的一半\n",
    "        self.B = [] # 大顶堆，保存较小的一半\n",
    "\n",
    "    def addNum(self, num: int) -> None:\n",
    "        if len(self.A) != len(self.B):\n",
    "            heappush(self.A, num)\n",
    "            heappush(self.B, -heappop(self.A))\n",
    "        else:\n",
    "            heappush(self.B, -num)\n",
    "            heappush(self.A, -heappop(self.B))\n",
    "\n",
    "    def findMedian(self) -> float:\n",
    "        return self.A[0] if len(self.A) != len(self.B) else (self.A[0] - self.B[0]) / 2.0\n",
    "\n",
    "\n",
    "\n",
    "#Python 中 heapq 模块是小顶堆。实现 大顶堆 方法： 小顶堆的插入和弹出操作均将元素 取反 即可。\n",
    "#将push(e)改为push(-e)、pop(e)改为-pop(e)。\n",
    "# Your MedianFinder object will be instantiated and called as such:\n",
    "# obj = MedianFinder()\n",
    "# obj.addNum(num)\n",
    "# param_2 = obj.findMedian()"
   ]
  }
 ],
 "metadata": {
  "kernelspec": {
   "display_name": "Python 3",
   "language": "python",
   "name": "python3"
  },
  "language_info": {
   "codemirror_mode": {
    "name": "ipython",
    "version": 3
   },
   "file_extension": ".py",
   "mimetype": "text/x-python",
   "name": "python",
   "nbconvert_exporter": "python",
   "pygments_lexer": "ipython3",
   "version": "3.6.3"
  }
 },
 "nbformat": 4,
 "nbformat_minor": 2
}
