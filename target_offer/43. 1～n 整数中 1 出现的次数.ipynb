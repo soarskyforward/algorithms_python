{
 "cells": [
  {
   "cell_type": "markdown",
   "metadata": {},
   "source": [
    "入一个整数 n ，求1～n这n个整数的十进制表示中1出现的次数。\n",
    "\n",
    "例如，输入12，1～12这些整数中包含1 的数字有1、10、11和12，1一共出现了5次。"
   ]
  },
  {
   "cell_type": "code",
   "execution_count": null,
   "metadata": {},
   "outputs": [],
   "source": [
    "class Solution:\n",
    "    def countDigitOne(self, n: int) -> int:\n",
    "        digit, res = 1, 0\n",
    "        high, cur, low = n // 10, n % 10, 0\n",
    "        while high != 0 or cur != 0:\n",
    "            if cur == 0: res += high * digit\n",
    "            elif cur == 1: res += high * digit + low + 1\n",
    "            else: res += (high + 1) * digit\n",
    "            low += cur * digit\n",
    "            cur = high % 10\n",
    "            high //= 10\n",
    "            digit *= 10\n",
    "        return res\n"
   ]
  }
 ],
 "metadata": {
  "kernelspec": {
   "display_name": "Python 3",
   "language": "python",
   "name": "python3"
  },
  "language_info": {
   "codemirror_mode": {
    "name": "ipython",
    "version": 3
   },
   "file_extension": ".py",
   "mimetype": "text/x-python",
   "name": "python",
   "nbconvert_exporter": "python",
   "pygments_lexer": "ipython3",
   "version": "3.6.3"
  }
 },
 "nbformat": 4,
 "nbformat_minor": 2
}
