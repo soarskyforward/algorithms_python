{
 "cells": [
  {
   "cell_type": "markdown",
   "metadata": {},
   "source": [
    "输入一个英文句子，翻转句子中单词的顺序，但单词内字符的顺序不变。为简单起见，标点符号和普通字母一样处理。例如输入字符串\"I am a student. \"，则输出\"student. a am I\"。\n"
   ]
  },
  {
   "cell_type": "code",
   "execution_count": null,
   "metadata": {},
   "outputs": [],
   "source": [
    "class Solution:\n",
    "    def reverseWords(self, s: str) -> str:\n",
    "        s = s.strip()\n",
    "        strs = s.split()\n",
    "        strs.reverse()\n",
    "        return ' '.join(strs)\n",
    "    \n",
    "    def reverseWords2(self, s: str) -> str:\n",
    "        s = s.strip() # 删除首尾空格\n",
    "        i = j = len(s) - 1\n",
    "        res = []\n",
    "        while i >= 0:\n",
    "            while i >= 0 and s[i] != ' ': i -= 1 # 搜索首个空格\n",
    "            res.append(s[i + 1: j + 1]) # 添加单词\n",
    "            while s[i] == ' ': i -= 1 # 跳过单词间空格\n",
    "            j = i # j 指向下个单词的尾字符\n",
    "        return ' '.join(res) # 拼接并返回\n"
   ]
  }
 ],
 "metadata": {
  "kernelspec": {
   "display_name": "Python 3",
   "language": "python",
   "name": "python3"
  },
  "language_info": {
   "codemirror_mode": {
    "name": "ipython",
    "version": 3
   },
   "file_extension": ".py",
   "mimetype": "text/x-python",
   "name": "python",
   "nbconvert_exporter": "python",
   "pygments_lexer": "ipython3",
   "version": "3.6.3"
  }
 },
 "nbformat": 4,
 "nbformat_minor": 2
}
