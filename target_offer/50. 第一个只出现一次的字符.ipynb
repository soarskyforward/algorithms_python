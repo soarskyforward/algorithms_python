{
 "cells": [
  {
   "cell_type": "markdown",
   "metadata": {},
   "source": [
    "在字符串 s 中找出第一个只出现一次的字符。如果没有，返回一个单空格。 s 只包含小写字母。\n",
    "s = \"abaccdeff\"\n",
    "返回 \"b\"\n",
    "\n",
    "s = \"\" \n",
    "返回 \" \""
   ]
  },
  {
   "cell_type": "code",
   "execution_count": null,
   "metadata": {},
   "outputs": [],
   "source": [
    "class Solution:\n",
    "    def firstUniqChar(self, s: str) -> str:\n",
    "        dic = {}\n",
    "        for c in s:\n",
    "            dic[c] = not c in dic\n",
    "        for c in s:\n",
    "            if dic[c]: return c\n",
    "        return ' '\n",
    "    \n",
    "    def firstUniqChar2(self, s: str) -> str:\n",
    "        dic = {}\n",
    "        for c in s:\n",
    "            dic[c] = not c in dic\n",
    "        for k, v in dic.items():\n",
    "            if v: return k\n",
    "        return ' '"
   ]
  }
 ],
 "metadata": {
  "kernelspec": {
   "display_name": "Python 3",
   "language": "python",
   "name": "python3"
  },
  "language_info": {
   "codemirror_mode": {
    "name": "ipython",
    "version": 3
   },
   "file_extension": ".py",
   "mimetype": "text/x-python",
   "name": "python",
   "nbconvert_exporter": "python",
   "pygments_lexer": "ipython3",
   "version": "3.6.3"
  }
 },
 "nbformat": 4,
 "nbformat_minor": 2
}
