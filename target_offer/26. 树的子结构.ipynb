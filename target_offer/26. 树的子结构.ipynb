{
 "cells": [
  {
   "cell_type": "markdown",
   "metadata": {},
   "source": [
    "输入两棵二叉树A和B，判断B是不是A的子结构。(约定空树不是任意一个树的子结构)\n",
    "\n",
    "B是A的子结构， 即 A中有出现和B相同的结构和节点值。\n",
    "\n",
    "输入：A = [1,2,3], B = [3,1]\n",
    "输出：false\n",
    "\n",
    "输入：A = [3,4,5,1,2], B = [4,1]\n",
    "输出：true"
   ]
  },
  {
   "cell_type": "code",
   "execution_count": null,
   "metadata": {},
   "outputs": [],
   "source": [
    "# Definition for a binary tree node.\n",
    "# class TreeNode:\n",
    "#     def __init__(self, x):\n",
    "#         self.val = x\n",
    "#         self.left = None\n",
    "#         self.right = None\n",
    "\n",
    "class Solution:\n",
    "    def isSubStructure(self, A: TreeNode, B: TreeNode) -> bool:\n",
    "        def recur(A,B):\n",
    "            if not B:\n",
    "                return True\n",
    "            if not A or A.val != B.val:\n",
    "                return False\n",
    "            return recur(A.left, B.left) and recur(A.right, B.right)\n",
    "        return bool(A and B) and (recur(A, B) or self.isSubStructure(A.left, B) or self.isSubStructure(A.right, B))\n"
   ]
  }
 ],
 "metadata": {
  "kernelspec": {
   "display_name": "Python 3",
   "language": "python",
   "name": "python3"
  },
  "language_info": {
   "codemirror_mode": {
    "name": "ipython",
    "version": 3
   },
   "file_extension": ".py",
   "mimetype": "text/x-python",
   "name": "python",
   "nbconvert_exporter": "python",
   "pygments_lexer": "ipython3",
   "version": "3.6.3"
  }
 },
 "nbformat": 4,
 "nbformat_minor": 2
}
