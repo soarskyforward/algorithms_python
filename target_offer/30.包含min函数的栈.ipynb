{
 "cells": [
  {
   "cell_type": "markdown",
   "metadata": {},
   "source": [
    "定义栈的数据结构，请在该类型中实现一个能够得到栈的最小元素的 min 函数在该栈中，调用 min、push 及 pop 的时间复杂度都是 O(1)。"
   ]
  },
  {
   "cell_type": "markdown",
   "metadata": {},
   "source": [
    "'\n",
    "MinStack minStack = new MinStack();\n",
    "minStack.push(-2);\n",
    "minStack.push(0);\n",
    "minStack.push(-3);\n",
    "minStack.min();   --> 返回 -3.\n",
    "minStack.pop();\n",
    "minStack.top();      --> 返回 0.\n",
    "minStack.min();   --> 返回 -2.\n",
    "'"
   ]
  },
  {
   "cell_type": "code",
   "execution_count": null,
   "metadata": {},
   "outputs": [],
   "source": [
    "class MinStack:\n",
    "\n",
    "    def __init__(self):\n",
    "        \"\"\"\n",
    "        initialize your data structure here.\n",
    "        \"\"\"\n",
    "        self.A,self.B = [],[]\n",
    "\n",
    "    def push(self, x: int) -> None:\n",
    "        self.A.append(x)\n",
    "        if not self.B or x <= self.B[-1]:\n",
    "            self.B.append(x)\n",
    "\n",
    "    def pop(self) -> None:\n",
    "        if self.A.pop() == self.B[-1]:\n",
    "            self.B.pop()\n",
    "\n",
    "    def top(self) -> int:\n",
    "        return self.A[-1]\n",
    "    \n",
    "    def min(self) -> int:\n",
    "        return self.B[-1]"
   ]
  }
 ],
 "metadata": {
  "kernelspec": {
   "display_name": "Python 3",
   "language": "python",
   "name": "python3"
  },
  "language_info": {
   "codemirror_mode": {
    "name": "ipython",
    "version": 3
   },
   "file_extension": ".py",
   "mimetype": "text/x-python",
   "name": "python",
   "nbconvert_exporter": "python",
   "pygments_lexer": "ipython3",
   "version": "3.6.3"
  }
 },
 "nbformat": 4,
 "nbformat_minor": 2
}
