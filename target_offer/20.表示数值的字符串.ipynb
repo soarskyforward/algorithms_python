{
 "cells": [
  {
   "cell_type": "markdown",
   "metadata": {},
   "source": [
    "请实现一个函数用来判断字符串是否表示数值（包括整数和小数）。例如，字符串\"+100\"、\"5e2\"、\"-123\"、\"3.1416\"、\"-1E-16\"、\"0123\"都表示数值，但\"12e\"、\"1a3.14\"、\"1.2.3\"、\"+-5\"及\"12e+5.4\"都不是。\n"
   ]
  },
  {
   "cell_type": "code",
   "execution_count": null,
   "metadata": {},
   "outputs": [],
   "source": [
    "class Solution:\n",
    "    def isNumber(self, s: str) -> bool:\n",
    "        states = [\n",
    "            { ' ': 0, 's': 1, 'd': 2, '.': 4 }, # 0. start with 'blank'\n",
    "            { 'd': 2, '.': 4 } ,                # 1. 'sign' before 'e'\n",
    "            { 'd': 2, '.': 3, 'e': 5, ' ': 8 }, # 2. 'digit' before 'dot'\n",
    "            { 'd': 3, 'e': 5, ' ': 8 },         # 3. 'digit' after 'dot'\n",
    "            { 'd': 3 },                         # 4. 'digit' after 'dot' (‘blank’ before 'dot')\n",
    "            { 's': 6, 'd': 7 },                 # 5. 'e'\n",
    "            { 'd': 7 },                         # 6. 'sign' after 'e'\n",
    "            { 'd': 7, ' ': 8 },                 # 7. 'digit' after 'e'\n",
    "            { ' ': 8 }                          # 8. end with 'blank'\n",
    "        ]\n",
    "        p = 0                           # start with state 0\n",
    "        for c in s:\n",
    "            if '0' <= c <= '9': t = 'd' # digit\n",
    "            elif c in \"+-\": t = 's'     # sign\n",
    "            elif c in \"eE\": t = 'e'     # e or E\n",
    "            elif c in \". \": t = c       # dot, blank\n",
    "            else: t = '?'               # unknown\n",
    "            if t not in states[p]: return False\n",
    "            p = states[p][t]\n",
    "        return p in (2, 3, 7, 8)\n"
   ]
  }
 ],
 "metadata": {
  "kernelspec": {
   "display_name": "Python 3",
   "language": "python",
   "name": "python3"
  },
  "language_info": {
   "codemirror_mode": {
    "name": "ipython",
    "version": 3
   },
   "file_extension": ".py",
   "mimetype": "text/x-python",
   "name": "python",
   "nbconvert_exporter": "python",
   "pygments_lexer": "ipython3",
   "version": "3.6.3"
  }
 },
 "nbformat": 4,
 "nbformat_minor": 2
}
