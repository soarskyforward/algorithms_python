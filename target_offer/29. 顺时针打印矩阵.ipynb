{
 "cells": [
  {
   "cell_type": "markdown",
   "metadata": {},
   "source": [
    "输入一个矩阵，按照从外向里以顺时针的顺序依次打印出每一个数字。\n",
    "输入：matrix = [[1,2,3],[4,5,6],[7,8,9]]\n",
    "输出：[1,2,3,6,9,8,7,4,5]"
   ]
  },
  {
   "cell_type": "code",
   "execution_count": null,
   "metadata": {},
   "outputs": [],
   "source": [
    "class Solution:\n",
    "    def spiralOrder(self, matrix:[[int]]) -> [int]:\n",
    "        if not matrix: return []\n",
    "        l, r, t, b, res = 0, len(matrix[0]) - 1, 0, len(matrix) - 1, []\n",
    "        while True:\n",
    "            for i in range(l, r + 1): res.append(matrix[t][i]) # left to right\n",
    "            t += 1\n",
    "            if t > b: break\n",
    "            for i in range(t, b + 1): res.append(matrix[i][r]) # top to bottom\n",
    "            r -= 1\n",
    "            if l > r: break\n",
    "            for i in range(r, l - 1, -1): res.append(matrix[b][i]) # right to left\n",
    "            b -= 1\n",
    "            if t > b: break\n",
    "            for i in range(b, t - 1, -1): res.append(matrix[i][l]) # bottom to top\n",
    "            l += 1\n",
    "            if l > r: break\n",
    "        return res\n",
    "\n",
    "    def spiralOrder2(self, matrix: List[List[int]]) -> List[int]:\n",
    "        r, i, j, di, dj = [], 0, 0, 0, 1\n",
    "        if matrix != []:\n",
    "            for _ in range(len(matrix) * len(matrix[0])):\n",
    "                r.append(matrix[i][j])\n",
    "                matrix[i][j] = 0\n",
    "                if matrix[(i + di) % len(matrix)][(j + dj) % len(matrix[0])] == 0:\n",
    "                    di, dj = dj, -di\n",
    "                i += di\n",
    "                j += dj\n",
    "        return r"
   ]
  }
 ],
 "metadata": {
  "kernelspec": {
   "display_name": "Python 3",
   "language": "python",
   "name": "python3"
  },
  "language_info": {
   "codemirror_mode": {
    "name": "ipython",
    "version": 3
   },
   "file_extension": ".py",
   "mimetype": "text/x-python",
   "name": "python",
   "nbconvert_exporter": "python",
   "pygments_lexer": "ipython3",
   "version": "3.6.3"
  }
 },
 "nbformat": 4,
 "nbformat_minor": 2
}
