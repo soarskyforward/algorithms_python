{
 "cells": [
  {
   "cell_type": "markdown",
   "metadata": {},
   "source": [
    "输入一个整数数组，判断该数组是不是某二叉搜索树的后序遍历结果。如果是则返回 true，否则返回 false。假设输入的数组的任意两个数字都互不相同。"
   ]
  },
  {
   "cell_type": "code",
   "execution_count": null,
   "metadata": {},
   "outputs": [],
   "source": [
    "class Solution:\n",
    "    def verifyPostorder(self, postorder: [int]) -> bool:\n",
    "        def recur(i, j):\n",
    "            if i >= j: return True\n",
    "            p = i\n",
    "            while postorder[p] < postorder[j]: p += 1\n",
    "            m = p\n",
    "            while postorder[p] > postorder[j]: p += 1\n",
    "            return p == j and recur(i, m - 1) and recur(m, j - 1)\n",
    "\n",
    "        return recur(0, len(postorder) - 1)\n"
   ]
  }
 ],
 "metadata": {
  "kernelspec": {
   "display_name": "Python 3",
   "language": "python",
   "name": "python3"
  },
  "language_info": {
   "codemirror_mode": {
    "name": "ipython",
    "version": 3
   },
   "file_extension": ".py",
   "mimetype": "text/x-python",
   "name": "python",
   "nbconvert_exporter": "python",
   "pygments_lexer": "ipython3",
   "version": "3.6.3"
  }
 },
 "nbformat": 4,
 "nbformat_minor": 2
}
