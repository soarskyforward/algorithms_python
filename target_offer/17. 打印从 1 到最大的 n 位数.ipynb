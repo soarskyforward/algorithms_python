{
 "cells": [
  {
   "cell_type": "markdown",
   "metadata": {},
   "source": [
    "输入数字 n，按顺序打印出从 1 到最大的 n 位十进制数。比如输入 3，则打印出 1、2、3 一直到最大的 3 位数 999。"
   ]
  },
  {
   "cell_type": "code",
   "execution_count": 1,
   "metadata": {},
   "outputs": [
    {
     "ename": "SyntaxError",
     "evalue": "unexpected EOF while parsing (<ipython-input-1-b28cd267361e>, line 10)",
     "output_type": "error",
     "traceback": [
      "\u001b[1;36m  File \u001b[1;32m\"<ipython-input-1-b28cd267361e>\"\u001b[1;36m, line \u001b[1;32m10\u001b[0m\n\u001b[1;33m    \u001b[0m\n\u001b[1;37m    ^\u001b[0m\n\u001b[1;31mSyntaxError\u001b[0m\u001b[1;31m:\u001b[0m unexpected EOF while parsing\n"
     ]
    }
   ],
   "source": [
    "class Solution:\n",
    "    def printNumbers(self, n: int) -> List[int]:\n",
    "        return list(range(1,10**n))\n",
    "    def printNumbers2(self, n: int) -> List[int]:\n",
    "        def dfs(x):\n",
    "            if x == n:\n",
    "                s = ''.join(num[self.start:])\n",
    "                if s != '0': res.append(int(s))\n",
    "                if n - self.start == self.nine: self.start -= 1\n",
    "                return\n",
    "            for i in range(10):\n",
    "                if i == 9: self.nine += 1\n",
    "                num[x] = str(i)\n",
    "                dfs(x + 1)\n",
    "            self.nine -= 1\n",
    "        \n",
    "        num, res = ['0'] * n, []\n",
    "        self.nine = 0\n",
    "        self.start = n - 1\n",
    "        dfs(0)\n",
    "        return res"
   ]
  },
  {
   "cell_type": "code",
   "execution_count": null,
   "metadata": {},
   "outputs": [],
   "source": []
  }
 ],
 "metadata": {
  "kernelspec": {
   "display_name": "Python 3",
   "language": "python",
   "name": "python3"
  },
  "language_info": {
   "codemirror_mode": {
    "name": "ipython",
    "version": 3
   },
   "file_extension": ".py",
   "mimetype": "text/x-python",
   "name": "python",
   "nbconvert_exporter": "python",
   "pygments_lexer": "ipython3",
   "version": "3.6.3"
  }
 },
 "nbformat": 4,
 "nbformat_minor": 2
}
